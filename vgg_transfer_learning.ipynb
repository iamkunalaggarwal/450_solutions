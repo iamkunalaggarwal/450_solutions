{
  "nbformat": 4,
  "nbformat_minor": 0,
  "metadata": {
    "colab": {
      "name": "vgg_transfer_learning.ipynb",
      "provenance": [],
      "authorship_tag": "ABX9TyMllZhxOwSIYFDZZ261Ej35",
      "include_colab_link": true
    },
    "kernelspec": {
      "name": "python3",
      "display_name": "Python 3"
    },
    "language_info": {
      "name": "python"
    },
    "accelerator": "GPU"
  },
  "cells": [
    {
      "cell_type": "markdown",
      "metadata": {
        "id": "view-in-github",
        "colab_type": "text"
      },
      "source": [
        "<a href=\"https://colab.research.google.com/github/iamkunalaggarwal/450_solutions/blob/main/vgg_transfer_learning.ipynb\" target=\"_parent\"><img src=\"https://colab.research.google.com/assets/colab-badge.svg\" alt=\"Open In Colab\"/></a>"
      ]
    },
    {
      "cell_type": "code",
      "execution_count": 1,
      "metadata": {
        "colab": {
          "base_uri": "https://localhost:8080/"
        },
        "id": "aLQJiNr3mw1u",
        "outputId": "7bf3a96a-20df-4956-ee0b-53288170f1d7"
      },
      "outputs": [
        {
          "output_type": "stream",
          "name": "stdout",
          "text": [
            "Cloning into 'GroceryStoreDataset'...\n",
            "remote: Enumerating objects: 6556, done.\u001b[K\n",
            "remote: Counting objects: 100% (263/263), done.\u001b[K\n",
            "remote: Compressing objects: 100% (228/228), done.\u001b[K\n",
            "remote: Total 6556 (delta 44), reused 35 (delta 35), pack-reused 6293\u001b[K\n",
            "Receiving objects: 100% (6556/6556), 116.25 MiB | 13.33 MiB/s, done.\n",
            "Resolving deltas: 100% (274/274), done.\n",
            "Checking out files: 100% (5717/5717), done.\n"
          ]
        }
      ],
      "source": [
        "!git clone https://github.com/marcusklasson/GroceryStoreDataset"
      ]
    },
    {
      "cell_type": "code",
      "source": [
        "## set train, validation, and test paths\n",
        "train_path = 'dataset/train' \n",
        "validation_path = 'dataset/val'\n",
        "test_path = 'dataset/test'"
      ],
      "metadata": {
        "id": "CdNfyXoRvDqg"
      },
      "execution_count": 2,
      "outputs": []
    },
    {
      "cell_type": "code",
      "source": [
        "from keras.applications.vgg19 import VGG19\n",
        "vgg_model = VGG19(weights = 'imagenet')"
      ],
      "metadata": {
        "colab": {
          "base_uri": "https://localhost:8080/"
        },
        "id": "BsSMA1qsv08Q",
        "outputId": "a19962d4-900b-4b29-ad81-a82d9ec00fe5"
      },
      "execution_count": 3,
      "outputs": [
        {
          "output_type": "stream",
          "name": "stdout",
          "text": [
            "Downloading data from https://storage.googleapis.com/tensorflow/keras-applications/vgg19/vgg19_weights_tf_dim_ordering_tf_kernels.h5\n",
            "574717952/574710816 [==============================] - 6s 0us/step\n",
            "574726144/574710816 [==============================] - 6s 0us/step\n"
          ]
        }
      ]
    },
    {
      "cell_type": "code",
      "source": [
        "vgg_model.summary()"
      ],
      "metadata": {
        "colab": {
          "base_uri": "https://localhost:8080/"
        },
        "id": "s8I5gn7iv7VH",
        "outputId": "aa924a83-3a13-4f18-a9b4-a6f5a32c8c4f"
      },
      "execution_count": 4,
      "outputs": [
        {
          "output_type": "stream",
          "name": "stdout",
          "text": [
            "Model: \"vgg19\"\n",
            "_________________________________________________________________\n",
            " Layer (type)                Output Shape              Param #   \n",
            "=================================================================\n",
            " input_1 (InputLayer)        [(None, 224, 224, 3)]     0         \n",
            "                                                                 \n",
            " block1_conv1 (Conv2D)       (None, 224, 224, 64)      1792      \n",
            "                                                                 \n",
            " block1_conv2 (Conv2D)       (None, 224, 224, 64)      36928     \n",
            "                                                                 \n",
            " block1_pool (MaxPooling2D)  (None, 112, 112, 64)      0         \n",
            "                                                                 \n",
            " block2_conv1 (Conv2D)       (None, 112, 112, 128)     73856     \n",
            "                                                                 \n",
            " block2_conv2 (Conv2D)       (None, 112, 112, 128)     147584    \n",
            "                                                                 \n",
            " block2_pool (MaxPooling2D)  (None, 56, 56, 128)       0         \n",
            "                                                                 \n",
            " block3_conv1 (Conv2D)       (None, 56, 56, 256)       295168    \n",
            "                                                                 \n",
            " block3_conv2 (Conv2D)       (None, 56, 56, 256)       590080    \n",
            "                                                                 \n",
            " block3_conv3 (Conv2D)       (None, 56, 56, 256)       590080    \n",
            "                                                                 \n",
            " block3_conv4 (Conv2D)       (None, 56, 56, 256)       590080    \n",
            "                                                                 \n",
            " block3_pool (MaxPooling2D)  (None, 28, 28, 256)       0         \n",
            "                                                                 \n",
            " block4_conv1 (Conv2D)       (None, 28, 28, 512)       1180160   \n",
            "                                                                 \n",
            " block4_conv2 (Conv2D)       (None, 28, 28, 512)       2359808   \n",
            "                                                                 \n",
            " block4_conv3 (Conv2D)       (None, 28, 28, 512)       2359808   \n",
            "                                                                 \n",
            " block4_conv4 (Conv2D)       (None, 28, 28, 512)       2359808   \n",
            "                                                                 \n",
            " block4_pool (MaxPooling2D)  (None, 14, 14, 512)       0         \n",
            "                                                                 \n",
            " block5_conv1 (Conv2D)       (None, 14, 14, 512)       2359808   \n",
            "                                                                 \n",
            " block5_conv2 (Conv2D)       (None, 14, 14, 512)       2359808   \n",
            "                                                                 \n",
            " block5_conv3 (Conv2D)       (None, 14, 14, 512)       2359808   \n",
            "                                                                 \n",
            " block5_conv4 (Conv2D)       (None, 14, 14, 512)       2359808   \n",
            "                                                                 \n",
            " block5_pool (MaxPooling2D)  (None, 7, 7, 512)         0         \n",
            "                                                                 \n",
            " flatten (Flatten)           (None, 25088)             0         \n",
            "                                                                 \n",
            " fc1 (Dense)                 (None, 4096)              102764544 \n",
            "                                                                 \n",
            " fc2 (Dense)                 (None, 4096)              16781312  \n",
            "                                                                 \n",
            " predictions (Dense)         (None, 1000)              4097000   \n",
            "                                                                 \n",
            "=================================================================\n",
            "Total params: 143,667,240\n",
            "Trainable params: 143,667,240\n",
            "Non-trainable params: 0\n",
            "_________________________________________________________________\n"
          ]
        }
      ]
    },
    {
      "cell_type": "code",
      "source": [
        "from keras.models import Sequential\n",
        "from keras.layers import Dense\n",
        "\n",
        "vgg_transfer_base_model = Sequential()\n",
        "\n",
        "for layer in vgg_model.layers[:-1]:\n",
        "  vgg_transfer_base_model.add(layer)\n",
        "  \n",
        "vgg_transfer_base_model.layers.pop()\n",
        "for layer in vgg_transfer_base_model.layers:\n",
        "  layer.trainable=False\n",
        "\n",
        "vgg_transfer_base_model.add(Dense(512, activation = 'relu'))\n",
        "vgg_transfer_base_model.add(Dense(3, activation='softmax'))\n",
        "vgg_transfer_base_model.summary()"
      ],
      "metadata": {
        "colab": {
          "base_uri": "https://localhost:8080/"
        },
        "id": "jOaH62OwwDBx",
        "outputId": "7d882c94-ff6b-4cab-c747-2ee95a333e6f"
      },
      "execution_count": 5,
      "outputs": [
        {
          "output_type": "stream",
          "name": "stdout",
          "text": [
            "Model: \"sequential\"\n",
            "_________________________________________________________________\n",
            " Layer (type)                Output Shape              Param #   \n",
            "=================================================================\n",
            " block1_conv1 (Conv2D)       (None, 224, 224, 64)      1792      \n",
            "                                                                 \n",
            " block1_conv2 (Conv2D)       (None, 224, 224, 64)      36928     \n",
            "                                                                 \n",
            " block1_pool (MaxPooling2D)  (None, 112, 112, 64)      0         \n",
            "                                                                 \n",
            " block2_conv1 (Conv2D)       (None, 112, 112, 128)     73856     \n",
            "                                                                 \n",
            " block2_conv2 (Conv2D)       (None, 112, 112, 128)     147584    \n",
            "                                                                 \n",
            " block2_pool (MaxPooling2D)  (None, 56, 56, 128)       0         \n",
            "                                                                 \n",
            " block3_conv1 (Conv2D)       (None, 56, 56, 256)       295168    \n",
            "                                                                 \n",
            " block3_conv2 (Conv2D)       (None, 56, 56, 256)       590080    \n",
            "                                                                 \n",
            " block3_conv3 (Conv2D)       (None, 56, 56, 256)       590080    \n",
            "                                                                 \n",
            " block3_conv4 (Conv2D)       (None, 56, 56, 256)       590080    \n",
            "                                                                 \n",
            " block3_pool (MaxPooling2D)  (None, 28, 28, 256)       0         \n",
            "                                                                 \n",
            " block4_conv1 (Conv2D)       (None, 28, 28, 512)       1180160   \n",
            "                                                                 \n",
            " block4_conv2 (Conv2D)       (None, 28, 28, 512)       2359808   \n",
            "                                                                 \n",
            " block4_conv3 (Conv2D)       (None, 28, 28, 512)       2359808   \n",
            "                                                                 \n",
            " block4_conv4 (Conv2D)       (None, 28, 28, 512)       2359808   \n",
            "                                                                 \n",
            " block4_pool (MaxPooling2D)  (None, 14, 14, 512)       0         \n",
            "                                                                 \n",
            " block5_conv1 (Conv2D)       (None, 14, 14, 512)       2359808   \n",
            "                                                                 \n",
            " block5_conv2 (Conv2D)       (None, 14, 14, 512)       2359808   \n",
            "                                                                 \n",
            " block5_conv3 (Conv2D)       (None, 14, 14, 512)       2359808   \n",
            "                                                                 \n",
            " block5_conv4 (Conv2D)       (None, 14, 14, 512)       2359808   \n",
            "                                                                 \n",
            " block5_pool (MaxPooling2D)  (None, 7, 7, 512)         0         \n",
            "                                                                 \n",
            " flatten (Flatten)           (None, 25088)             0         \n",
            "                                                                 \n",
            " fc1 (Dense)                 (None, 4096)              102764544 \n",
            "                                                                 \n",
            " fc2 (Dense)                 (None, 4096)              16781312  \n",
            "                                                                 \n",
            " dense (Dense)               (None, 512)               2097664   \n",
            "                                                                 \n",
            " dense_1 (Dense)             (None, 3)                 1539      \n",
            "                                                                 \n",
            "=================================================================\n",
            "Total params: 141,669,443\n",
            "Trainable params: 2,099,203\n",
            "Non-trainable params: 139,570,240\n",
            "_________________________________________________________________\n"
          ]
        }
      ]
    },
    {
      "cell_type": "code",
      "source": [
        "from keras.preprocessing.image import ImageDataGenerator\n",
        "from tensorflow.keras import optimizers\n",
        "## data augmentation datagen\n",
        "vgg_train_datagen_do = ImageDataGenerator(\n",
        "        rotation_range=40,\n",
        "        width_shift_range=0.2,\n",
        "        height_shift_range=0.2,\n",
        "        fill_mode='nearest',\n",
        "        rescale=1./255,\n",
        "        shear_range=0.2,\n",
        "        zoom_range=0.2,\n",
        "        horizontal_flip=True)\n",
        "\n",
        "## test generator, required for prediction\n",
        "vgg_test_datagen_do = ImageDataGenerator(rescale=1./255)\n",
        "\n",
        "## train generator\n",
        "vgg_train_generator_do = vgg_train_datagen_do.flow_from_directory(\n",
        "        train_path,\n",
        "        target_size=(224, 224),\n",
        "        batch_size=25,\n",
        "        class_mode='categorical')\n",
        "\n",
        "## validation generator\n",
        "vgg_validation_generator_do = vgg_test_datagen_do.flow_from_directory(\n",
        "        validation_path,\n",
        "        target_size=(224, 224),\n",
        "        batch_size=10,\n",
        "        class_mode='categorical')\n",
        "\n",
        "## compile model\n",
        "vgg_transfer_base_model.compile(loss='categorical_crossentropy',\n",
        "              optimizer=optimizers.RMSprop(lr=1e-4),\n",
        "              metrics=['acc'])\n",
        "\n",
        "\n",
        "## set steps per epoch for train\n",
        "train_filenames_do = vgg_train_generator_do.filenames\n",
        "steps_train_do = len(train_filenames_do)/vgg_train_generator_do.batch_size\n",
        "\n",
        "## set steps per epoch for validation\n",
        "validation_filenames_do = vgg_validation_generator_do.filenames\n",
        "steps_valid_do = len(validation_filenames_do)/vgg_validation_generator_do.batch_size\n",
        "\n",
        "## fit model\n",
        "vgg_base_fit_generator_do = vgg_transfer_base_model.fit_generator(\n",
        "        vgg_train_generator_do,\n",
        "        steps_per_epoch=steps_train_do,\n",
        "        epochs=10,\n",
        "        validation_data=vgg_validation_generator_do,\n",
        "        validation_steps=steps_valid_do,\n",
        "        verbose=1)"
      ],
      "metadata": {
        "colab": {
          "base_uri": "https://localhost:8080/"
        },
        "id": "Q7Jvkt86wlEy",
        "outputId": "0065c918-1e12-4731-a9f3-fc4bc599f48f"
      },
      "execution_count": 6,
      "outputs": [
        {
          "output_type": "stream",
          "name": "stdout",
          "text": [
            "Found 2640 images belonging to 3 classes.\n",
            "Found 296 images belonging to 3 classes.\n"
          ]
        },
        {
          "output_type": "stream",
          "name": "stderr",
          "text": [
            "/usr/local/lib/python3.7/dist-packages/keras/optimizer_v2/rmsprop.py:130: UserWarning: The `lr` argument is deprecated, use `learning_rate` instead.\n",
            "  super(RMSprop, self).__init__(name, **kwargs)\n",
            "/usr/local/lib/python3.7/dist-packages/ipykernel_launcher.py:52: UserWarning: `Model.fit_generator` is deprecated and will be removed in a future version. Please use `Model.fit`, which supports generators.\n"
          ]
        },
        {
          "output_type": "stream",
          "name": "stdout",
          "text": [
            "Epoch 1/10\n",
            "105/105 [==============================] - 70s 542ms/step - loss: 0.6336 - acc: 0.7337 - val_loss: 0.5834 - val_acc: 0.7500\n",
            "Epoch 2/10\n",
            "105/105 [==============================] - 53s 497ms/step - loss: 0.4645 - acc: 0.7958 - val_loss: 0.3921 - val_acc: 0.8311\n",
            "Epoch 3/10\n",
            "105/105 [==============================] - 53s 500ms/step - loss: 0.4042 - acc: 0.8159 - val_loss: 0.3337 - val_acc: 0.8412\n",
            "Epoch 4/10\n",
            "105/105 [==============================] - 53s 499ms/step - loss: 0.3801 - acc: 0.8326 - val_loss: 0.3494 - val_acc: 0.8716\n",
            "Epoch 5/10\n",
            "105/105 [==============================] - 53s 498ms/step - loss: 0.3800 - acc: 0.8398 - val_loss: 0.3477 - val_acc: 0.8446\n",
            "Epoch 6/10\n",
            "105/105 [==============================] - 53s 498ms/step - loss: 0.3756 - acc: 0.8356 - val_loss: 0.3260 - val_acc: 0.9054\n",
            "Epoch 7/10\n",
            "105/105 [==============================] - 53s 497ms/step - loss: 0.3455 - acc: 0.8561 - val_loss: 0.3134 - val_acc: 0.8986\n",
            "Epoch 8/10\n",
            "105/105 [==============================] - 53s 500ms/step - loss: 0.3361 - acc: 0.8564 - val_loss: 0.3297 - val_acc: 0.8480\n",
            "Epoch 9/10\n",
            "105/105 [==============================] - 53s 497ms/step - loss: 0.3287 - acc: 0.8576 - val_loss: 0.3400 - val_acc: 0.8818\n",
            "Epoch 10/10\n",
            "105/105 [==============================] - 53s 500ms/step - loss: 0.3360 - acc: 0.8564 - val_loss: 0.3111 - val_acc: 0.8919\n"
          ]
        }
      ]
    },
    {
      "cell_type": "code",
      "source": [
        "import matplotlib.pyplot as plt\n",
        "\n",
        "acc = vgg_base_fit_generator_do.history['acc']\n",
        "val_acc = vgg_base_fit_generator_do.history['val_acc']\n",
        "loss = vgg_base_fit_generator_do.history['loss']\n",
        "val_loss = vgg_base_fit_generator_do.history['val_loss']\n",
        "\n",
        "epochs = range(len(acc))\n",
        "\n",
        "plt.plot(epochs, acc, 'bo', label='Training acc')\n",
        "plt.plot(epochs, val_acc, 'b', label='Validation acc', color = 'r')\n",
        "plt.title('Training and validation accuracy')\n",
        "plt.legend()\n",
        "\n",
        "plt.figure()\n",
        "\n",
        "plt.plot(epochs, loss, 'bo', label='Training loss')\n",
        "plt.plot(epochs, val_loss, 'b', label='Validation loss', color = 'r')\n",
        "plt.title('Training and validation loss')\n",
        "plt.legend()\n",
        "\n",
        "plt.show()"
      ],
      "metadata": {
        "colab": {
          "base_uri": "https://localhost:8080/",
          "height": 545
        },
        "id": "aAbmj3YhxPsB",
        "outputId": "c18e098b-e886-40c5-e11e-9ac198a76a79"
      },
      "execution_count": 7,
      "outputs": [
        {
          "output_type": "display_data",
          "data": {
            "image/png": "[encoded data removed]",
            "text/plain": [
              "<Figure size 432x288 with 1 Axes>"
            ]
          },
          "metadata": {
            "needs_background": "light"
          }
        },
        {
          "output_type": "display_data",
          "data": {
            "image/png": "[encoded data removed]",
            "text/plain": [
              "<Figure size 432x288 with 1 Axes>"
            ]
          },
          "metadata": {
            "needs_background": "light"
          }
        }
      ]
    },
    {
      "cell_type": "code",
      "source": [
        "vgg_test_generator_do = vgg_test_datagen_do.flow_from_directory(\n",
        "        test_path,\n",
        "        target_size=(224, 224),\n",
        "        batch_size=1,\n",
        "        shuffle = False,\n",
        "        class_mode='categorical')\n",
        "\n",
        "filenames_do = vgg_test_generator_do.filenames\n",
        "nb_samples_do = len(filenames_do)\n",
        "\n",
        "predict_do = vgg_transfer_base_model.predict_generator(vgg_test_generator_do,steps = nb_samples_do, verbose=2)"
      ],
      "metadata": {
        "colab": {
          "base_uri": "https://localhost:8080/"
        },
        "id": "00Q6HNgJOMMC",
        "outputId": "6ef7d3d6-b0dd-400a-f830-0603f7baa7b5"
      },
      "execution_count": 8,
      "outputs": [
        {
          "output_type": "stream",
          "name": "stdout",
          "text": [
            "Found 2485 images belonging to 3 classes.\n"
          ]
        },
        {
          "output_type": "stream",
          "name": "stderr",
          "text": [
            "/usr/local/lib/python3.7/dist-packages/ipykernel_launcher.py:11: UserWarning: `Model.predict_generator` is deprecated and will be removed in a future version. Please use `Model.predict`, which supports generators.\n",
            "  # This is added back by InteractiveShellApp.init_path()\n"
          ]
        },
        {
          "output_type": "stream",
          "name": "stdout",
          "text": [
            "2485/2485 - 106s - 106s/epoch - 43ms/step\n"
          ]
        }
      ]
    },
    {
      "cell_type": "code",
      "source": [
        ""
      ],
      "metadata": {
        "id": "u3ikLu0SOQ-s"
      },
      "execution_count": null,
      "outputs": []
    }
  ]
}