{
  "nbformat": 4,
  "nbformat_minor": 0,
  "metadata": {
    "colab": {
      "name": "Untitled2.ipynb",
      "provenance": [],
      "authorship_tag": "ABX9TyOt8koDOzEoDuj8L7MJreQU",
      "include_colab_link": true
    },
    "kernelspec": {
      "name": "python3",
      "display_name": "Python 3"
    },
    "language_info": {
      "name": "python"
    }
  },
  "cells": [
    {
      "cell_type": "markdown",
      "metadata": {
        "id": "view-in-github",
        "colab_type": "text"
      },
      "source": [
        "<a href=\"https://colab.research.google.com/github/iamkunalaggarwal/450_solutions/blob/main/neural_net2.ipynb\" target=\"_parent\"><img src=\"https://colab.research.google.com/assets/colab-badge.svg\" alt=\"Open In Colab\"/></a>"
      ]
    },
    {
      "cell_type": "code",
      "execution_count": null,
      "metadata": {
        "id": "_fxSyO2r6qPn"
      },
      "outputs": [],
      "source": [
        "import numpy as np\n",
        "import neurolab as nl"
      ]
    },
    {
      "cell_type": "code",
      "source": [
        "#input\n",
        "input = np.random.uniform(-0.6, 0.6, (10, 2))"
      ],
      "metadata": {
        "id": "RIW903r37MG-"
      },
      "execution_count": null,
      "outputs": []
    },
    {
      "cell_type": "code",
      "source": [
        "#expected output\n",
        "target = (input[:, 0] + input[:, 1]).reshape(10, 1)"
      ],
      "metadata": {
        "id": "A7KUb8ZP7Syz"
      },
      "execution_count": null,
      "outputs": []
    },
    {
      "cell_type": "code",
      "source": [
        "#neural network\n",
        "neural_net = nl.net.newff([[-0.6, 0.6], [-0.6, 0.6]], [6, 1])"
      ],
      "metadata": {
        "id": "A0ljLPU87pOB"
      },
      "execution_count": null,
      "outputs": []
    },
    {
      "cell_type": "code",
      "source": [
        "#training\n",
        "train = neural_net.train(input, target, show=15, goal=0.00001)"
      ],
      "metadata": {
        "colab": {
          "base_uri": "https://localhost:8080/"
        },
        "id": "YLUh11kp8bAn",
        "outputId": "b7f8ab94-71be-4995-d40f-c60f07e5bd2f"
      },
      "execution_count": null,
      "outputs": [
        {
          "output_type": "stream",
          "name": "stdout",
          "text": [
            "Epoch: 15; Error: 0.004887262908329809;\n",
            "Epoch: 30; Error: 8.431086032761664e-05;\n",
            "Epoch: 45; Error: 1.202651905214649e-05;\n",
            "The goal of learning is reached\n"
          ]
        }
      ]
    },
    {
      "cell_type": "code",
      "source": [
        "#output on train data\n",
        "neural_net.sim(input)"
      ],
      "metadata": {
        "colab": {
          "base_uri": "https://localhost:8080/"
        },
        "id": "RmQF2fqQ8lfS",
        "outputId": "2bb90392-6ba1-4a45-edab-5dde0038bebd"
      },
      "execution_count": null,
      "outputs": [
        {
          "output_type": "execute_result",
          "data": {
            "text/plain": [
              "array([[-0.12461609],\n",
              "       [ 0.57765447],\n",
              "       [ 0.75032556],\n",
              "       [ 0.79101194],\n",
              "       [ 0.17175103],\n",
              "       [-0.61420711],\n",
              "       [ 0.14157732],\n",
              "       [ 0.16365694],\n",
              "       [-0.03818401],\n",
              "       [-0.24573177]])"
            ]
          },
          "metadata": {},
          "execution_count": 76
        }
      ]
    },
    {
      "cell_type": "code",
      "source": [
        "# output on test data\n",
        "#result 1\n",
        "neural_net.sim([[0.2, 0.1]])"
      ],
      "metadata": {
        "colab": {
          "base_uri": "https://localhost:8080/"
        },
        "id": "xJEo-RNO80XW",
        "outputId": "8e9a496e-a133-44b7-c03d-916ff6f6893b"
      },
      "execution_count": null,
      "outputs": [
        {
          "output_type": "execute_result",
          "data": {
            "text/plain": [
              "array([[0.38201836]])"
            ]
          },
          "metadata": {},
          "execution_count": 77
        }
      ]
    },
    {
      "cell_type": "code",
      "source": [
        ""
      ],
      "metadata": {
        "id": "ZAeJmMoV_i-N"
      },
      "execution_count": null,
      "outputs": []
    }
  ]
}