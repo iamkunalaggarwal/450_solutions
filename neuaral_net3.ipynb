{
  "nbformat": 4,
  "nbformat_minor": 0,
  "metadata": {
    "colab": {
      "name": "Untitled3.ipynb",
      "provenance": [],
      "authorship_tag": "ABX9TyP0nJlN7AmrmMQS3ZodfooW",
      "include_colab_link": true
    },
    "kernelspec": {
      "name": "python3",
      "display_name": "Python 3"
    },
    "language_info": {
      "name": "python"
    }
  },
  "cells": [
    {
      "cell_type": "markdown",
      "metadata": {
        "id": "view-in-github",
        "colab_type": "text"
      },
      "source": [
        "<a href=\"https://colab.research.google.com/github/iamkunalaggarwal/450_solutions/blob/main/neuaral_net3.ipynb\" target=\"_parent\"><img src=\"https://colab.research.google.com/assets/colab-badge.svg\" alt=\"Open In Colab\"/></a>"
      ]
    },
    {
      "cell_type": "code",
      "execution_count": null,
      "metadata": {
        "id": "sK16WxJhGOdd"
      },
      "outputs": [],
      "source": [
        "import numpy as np\n",
        "import neurolab as nl"
      ]
    },
    {
      "cell_type": "code",
      "source": [
        "#Question 2 Exercise 1\n",
        "#input\n",
        "input = np.random.uniform(-0.6, 0.6, (10, 2))\n",
        "\n",
        "#expected output\n",
        "target = (input[:, 0] + input[:, 1]).reshape(10, 1)\n",
        "\n",
        "#neural network with 6 neurons\n",
        "neural_net = nl.net.newff([[-0.6, 0.6], [-0.6, 0.6]], [6, 1])\n",
        "\n",
        "#training\n",
        "train = neural_net.train(input, target, show=15, goal=0.00001)"
      ],
      "metadata": {
        "colab": {
          "base_uri": "https://localhost:8080/"
        },
        "id": "ngAVB11pGolg",
        "outputId": "7060dfae-57e7-4eef-da7f-f36034af5a0c"
      },
      "execution_count": null,
      "outputs": [
        {
          "output_type": "stream",
          "name": "stdout",
          "text": [
            "Epoch: 15; Error: 0.14103651482202612;\n",
            "Epoch: 30; Error: 0.005098951031128744;\n",
            "Epoch: 45; Error: 0.0035902564017894095;\n",
            "Epoch: 60; Error: 0.003223939039341292;\n",
            "Epoch: 75; Error: 0.0009495816823493644;\n",
            "Epoch: 90; Error: 0.00016167898710648957;\n",
            "Epoch: 105; Error: 8.841503765708826e-05;\n",
            "Epoch: 120; Error: 4.6570249194540236e-05;\n",
            "Epoch: 135; Error: 2.9300100581266007e-05;\n",
            "Epoch: 150; Error: 2.7338818947180237e-05;\n",
            "Epoch: 165; Error: 1.7076599571862526e-05;\n",
            "The goal of learning is reached\n"
          ]
        }
      ]
    },
    {
      "cell_type": "code",
      "source": [
        "# output on test data\n",
        "#result 1\n",
        "result1=neural_net.sim([[0.2, 0.1]])\n",
        "result1"
      ],
      "metadata": {
        "colab": {
          "base_uri": "https://localhost:8080/"
        },
        "id": "widLDmsxGWds",
        "outputId": "7384bd01-0a1f-427c-f7f7-454248dd3546"
      },
      "execution_count": null,
      "outputs": [
        {
          "output_type": "execute_result",
          "data": {
            "text/plain": [
              "array([[0.29587521]])"
            ]
          },
          "metadata": {},
          "execution_count": 34
        }
      ]
    },
    {
      "cell_type": "code",
      "source": [
        "#Question 3 Exercise 2\n",
        "#input\n",
        "input = np.random.uniform(-0.6, 0.6, (10, 2))\n",
        "\n",
        "#expected output\n",
        "target = (input[:, 0] + input[:, 1]).reshape(10, 1)\n",
        "\n",
        "#neural network with 2 layers of 5 and 3 neurons\n",
        "neural_net = nl.net.newff([[-0.6, 0.6], [-0.6, 0.6]], [5,3, 1])\n",
        "\n",
        "#training\n",
        "train = neural_net.train(input, target, show=100, goal=0.00001,epochs=1000)"
      ],
      "metadata": {
        "colab": {
          "base_uri": "https://localhost:8080/"
        },
        "id": "l8fGYY1qGv9L",
        "outputId": "be8bed58-e1f7-4cb4-c247-ba0a3df00094"
      },
      "execution_count": null,
      "outputs": [
        {
          "output_type": "stream",
          "name": "stdout",
          "text": [
            "The goal of learning is reached\n"
          ]
        }
      ]
    },
    {
      "cell_type": "code",
      "source": [
        "# output on test data\n",
        "#result 2\n",
        "result2=neural_net.sim([[0.2, 0.1]])\n",
        "result2"
      ],
      "metadata": {
        "colab": {
          "base_uri": "https://localhost:8080/"
        },
        "id": "isnkh1HdJxgY",
        "outputId": "a3cd5382-80fe-46b5-e42f-a06b2431e081"
      },
      "execution_count": null,
      "outputs": [
        {
          "output_type": "execute_result",
          "data": {
            "text/plain": [
              "array([[0.32418208]])"
            ]
          },
          "metadata": {},
          "execution_count": 54
        }
      ]
    },
    {
      "cell_type": "code",
      "source": [
        "#Question 3 Exercise 3\n",
        "#input\n",
        "input = np.random.uniform(-0.6, 0.6, (100, 2))\n",
        "\n",
        "#expected output\n",
        "target = (input[:, 0] + input[:, 1]).reshape(100, 1)\n",
        "\n",
        "#neural network with 6 neurons\n",
        "neural_net = nl.net.newff([[-0.6, 0.6], [-0.6, 0.6]], [6, 1])\n",
        "\n",
        "#training\n",
        "train = neural_net.train(input, target, show=15, goal=0.00001)"
      ],
      "metadata": {
        "colab": {
          "base_uri": "https://localhost:8080/"
        },
        "id": "VG2561J8J20w",
        "outputId": "2a2427f6-9a67-44dd-cb38-720bfd6f54c3"
      },
      "execution_count": null,
      "outputs": [
        {
          "output_type": "stream",
          "name": "stdout",
          "text": [
            "Epoch: 15; Error: 0.11851215534688174;\n",
            "Epoch: 30; Error: 0.00879851191833531;\n",
            "Epoch: 45; Error: 0.0019861294947363718;\n",
            "Epoch: 60; Error: 0.0015058277086279063;\n",
            "Epoch: 75; Error: 0.0009079389233961001;\n",
            "Epoch: 90; Error: 0.0005136786640157885;\n",
            "Epoch: 105; Error: 0.0004071714076344501;\n",
            "Epoch: 120; Error: 0.00037044421521754414;\n",
            "Epoch: 135; Error: 0.00036592063278869524;\n",
            "Epoch: 150; Error: 0.00034731895023877465;\n",
            "Epoch: 165; Error: 0.000291161819606502;\n",
            "Epoch: 180; Error: 0.00014514808584255884;\n",
            "Epoch: 195; Error: 0.00012106776569636527;\n",
            "Epoch: 210; Error: 0.00010611722829996146;\n",
            "Epoch: 225; Error: 7.880167534308867e-05;\n",
            "Epoch: 240; Error: 7.685321934445833e-05;\n",
            "Epoch: 255; Error: 6.854495784809308e-05;\n",
            "Epoch: 270; Error: 5.599941937495505e-05;\n",
            "Epoch: 285; Error: 4.6075576844348264e-05;\n",
            "Epoch: 300; Error: 3.65671292336053e-05;\n",
            "Epoch: 315; Error: 3.156221881044879e-05;\n",
            "Epoch: 330; Error: 2.722457313572291e-05;\n",
            "Epoch: 345; Error: 2.1307314250629765e-05;\n",
            "Epoch: 360; Error: 1.8056105924083823e-05;\n",
            "Epoch: 375; Error: 1.385836783182286e-05;\n",
            "Epoch: 390; Error: 1.0552698014407332e-05;\n",
            "Epoch: 405; Error: 1.0232092980252624e-05;\n",
            "The goal of learning is reached\n"
          ]
        }
      ]
    },
    {
      "cell_type": "code",
      "source": [
        "# output on test data\n",
        "#result 3\n",
        "result3=neural_net.sim([[0.2, 0.1]])\n",
        "result3"
      ],
      "metadata": {
        "colab": {
          "base_uri": "https://localhost:8080/"
        },
        "id": "hT8pRnYhKWP4",
        "outputId": "579ee1a3-73a1-48b7-8d55-24e00f15dfdd"
      },
      "execution_count": null,
      "outputs": [
        {
          "output_type": "execute_result",
          "data": {
            "text/plain": [
              "array([[0.29956309]])"
            ]
          },
          "metadata": {},
          "execution_count": 56
        }
      ]
    },
    {
      "cell_type": "code",
      "source": [
        "#Question 3 Exercise 4\n",
        "#input\n",
        "input = np.random.uniform(-0.6, 0.6, (100, 2))\n",
        "\n",
        "#expected output\n",
        "target = (input[:, 0] + input[:, 1]).reshape(100, 1)\n",
        "\n",
        "#neural network with 2 layers of 5 and 3 neurons\n",
        "neural_net = nl.net.newff([[-0.6, 0.6], [-0.6, 0.6]], [5,3, 1])\n",
        "\n",
        "#training\n",
        "train = neural_net.train(input, target, show=100, goal=0.00001,epochs=1000)"
      ],
      "metadata": {
        "colab": {
          "base_uri": "https://localhost:8080/"
        },
        "id": "dai7o3-8KZwA",
        "outputId": "3026638c-d30e-4055-ee08-6986adc00a11"
      },
      "execution_count": null,
      "outputs": [
        {
          "output_type": "stream",
          "name": "stdout",
          "text": [
            "Epoch: 100; Error: 0.016047731741101582;\n",
            "Epoch: 200; Error: 0.013841240686942348;\n",
            "Epoch: 300; Error: 0.01368504625515069;\n",
            "Epoch: 400; Error: 0.013539733825742374;\n",
            "Epoch: 500; Error: 0.01348210148786261;\n",
            "Epoch: 600; Error: 0.013443763528820563;\n",
            "Epoch: 700; Error: 0.013418536850945854;\n",
            "Epoch: 800; Error: 0.013403949568422197;\n"
          ]
        }
      ]
    },
    {
      "cell_type": "code",
      "source": [
        "# output on test data\n",
        "#result 4\n",
        "result4=neural_net.sim([[0.2, 0.1]])\n",
        "result4"
      ],
      "metadata": {
        "colab": {
          "base_uri": "https://localhost:8080/"
        },
        "id": "Kg7cAZo8Kt4d",
        "outputId": "574b3c0e-fea8-4355-f61e-0c0707fa8e39"
      },
      "execution_count": null,
      "outputs": [
        {
          "output_type": "execute_result",
          "data": {
            "text/plain": [
              "array([[0.30079431]])"
            ]
          },
          "metadata": {},
          "execution_count": 58
        }
      ]
    },
    {
      "cell_type": "code",
      "source": [
        "# Plot the error training size graph\n",
        "import pylab as pl\n",
        "pl.plot(train)\n",
        "pl.xlabel('Epoch number')\n",
        "pl.ylabel('error')"
      ],
      "metadata": {
        "colab": {
          "base_uri": "https://localhost:8080/",
          "height": 297
        },
        "id": "S5DZ-o-yK0GV",
        "outputId": "cc1f3815-48c9-4666-87a3-6a7d3a2d7b4c"
      },
      "execution_count": null,
      "outputs": [
        {
          "output_type": "execute_result",
          "data": {
            "text/plain": [
              "Text(0, 0.5, 'error')"
            ]
          },
          "metadata": {},
          "execution_count": 62
        },
        {
          "output_type": "display_data",
          "data": {
            "image/png": "[encoded data removed]",
            "text/plain": [
              "<Figure size 432x288 with 1 Axes>"
            ]
          },
          "metadata": {
            "needs_background": "light"
          }
        }
      ]
    },
    {
      "cell_type": "code",
      "source": [
        "#Question 3 Exercise 5 part 1\n",
        "#input\n",
        "input = np.random.uniform(-0.6, 0.6, (10, 3))\n",
        "\n",
        "#expected output\n",
        "target = (input[:, 0] + input[:, 1] + input[:, 2]).reshape(10, 1)\n",
        "\n",
        "#neural network with 6 neurons\n",
        "neural_net = nl.net.newff([[-0.6, 0.6], [-0.6, 0.6], [-0.6, 0.6]], [6, 1])\n",
        "\n",
        "#training\n",
        "train = neural_net.train(input, target, show=15, goal=0.00001)"
      ],
      "metadata": {
        "colab": {
          "base_uri": "https://localhost:8080/"
        },
        "id": "ktRGshjzL2JI",
        "outputId": "eddfc991-b957-4b03-96f5-f6dccf9fd47e"
      },
      "execution_count": null,
      "outputs": [
        {
          "output_type": "stream",
          "name": "stdout",
          "text": [
            "Epoch: 15; Error: 0.11578597010764556;\n",
            "Epoch: 30; Error: 0.10925585384974347;\n",
            "Epoch: 45; Error: 0.10910513537458873;\n",
            "Epoch: 60; Error: 0.10898435564723895;\n",
            "Epoch: 75; Error: 0.10863018827147851;\n",
            "Epoch: 90; Error: 0.108568163285144;\n",
            "Epoch: 105; Error: 0.10848832909499277;\n",
            "Epoch: 120; Error: 0.10845985290809158;\n",
            "Epoch: 135; Error: 0.1084562573099689;\n",
            "Epoch: 150; Error: 0.10845532322693881;\n",
            "Epoch: 165; Error: 0.10845492972365675;\n",
            "Epoch: 180; Error: 0.108454727576453;\n",
            "Epoch: 195; Error: 0.10845465125245578;\n",
            "Epoch: 210; Error: 0.10845460901570834;\n",
            "Epoch: 225; Error: 0.10845458512946914;\n",
            "Epoch: 240; Error: 0.10845457139773049;\n",
            "Epoch: 255; Error: 0.10845456044548778;\n",
            "Epoch: 270; Error: 0.10845455267804718;\n"
          ]
        }
      ]
    },
    {
      "cell_type": "code",
      "source": [
        "# output on test data\n",
        "#result 5\n",
        "result5=neural_net.sim([[0.2,0.1,0.2]])\n",
        "result5"
      ],
      "metadata": {
        "colab": {
          "base_uri": "https://localhost:8080/"
        },
        "id": "sx41PeH_NFqQ",
        "outputId": "3c4e62b8-b9b9-41e7-b7e7-df144d246b31"
      },
      "execution_count": null,
      "outputs": [
        {
          "output_type": "execute_result",
          "data": {
            "text/plain": [
              "array([[0.57192615]])"
            ]
          },
          "metadata": {},
          "execution_count": 92
        }
      ]
    },
    {
      "cell_type": "code",
      "source": [
        "#Question 3 Exercise 5 part 2\n",
        "#input\n",
        "input = np.random.uniform(-0.6, 0.6, (100, 3))\n",
        "\n",
        "#expected output\n",
        "target = (input[:, 0] + input[:, 1] + input[:, 2]).reshape(100, 1)\n",
        "\n",
        "#neural network with 2 layers of 5 and 3 neurons\n",
        "neural_net = nl.net.newff([[-0.6, 0.6], [-0.6, 0.6], [-0.6, 0.6]], [5,3, 1])\n",
        "\n",
        "#training\n",
        "train = neural_net.train(input, target, show=100, goal=0.00001,epochs=1000)"
      ],
      "metadata": {
        "colab": {
          "base_uri": "https://localhost:8080/"
        },
        "id": "zpOfIX7RNe52",
        "outputId": "8f12d1be-c9bf-495c-c0a4-92d9b85e04d7"
      },
      "execution_count": null,
      "outputs": [
        {
          "output_type": "stream",
          "name": "stdout",
          "text": [
            "Epoch: 100; Error: 0.0782804883372693;\n",
            "Epoch: 200; Error: 0.07526520555864033;\n",
            "Epoch: 300; Error: 0.07516481741852003;\n",
            "Epoch: 400; Error: 0.07514180111581319;\n",
            "Epoch: 500; Error: 0.07507931317695929;\n",
            "Epoch: 600; Error: 0.07503531656940637;\n",
            "Epoch: 700; Error: 0.07501282877947793;\n",
            "Epoch: 800; Error: 0.07500067294116095;\n",
            "Epoch: 900; Error: 0.07499885478744493;\n",
            "Epoch: 1000; Error: 0.07499079290275718;\n",
            "The maximum number of train epochs is reached\n"
          ]
        }
      ]
    },
    {
      "cell_type": "code",
      "source": [
        "# output on test data\n",
        "#result 6\n",
        "result6=neural_net.sim([[0.2,0.1,0.2]])\n",
        "result6"
      ],
      "metadata": {
        "colab": {
          "base_uri": "https://localhost:8080/"
        },
        "id": "L0S3UjpSOA1D",
        "outputId": "7d8c5539-e1e3-42d4-8b18-106db8626765"
      },
      "execution_count": null,
      "outputs": [
        {
          "output_type": "execute_result",
          "data": {
            "text/plain": [
              "array([[0.50339019]])"
            ]
          },
          "metadata": {},
          "execution_count": 94
        }
      ]
    },
    {
      "cell_type": "code",
      "source": [
        ""
      ],
      "metadata": {
        "id": "tcAwoqygOF4T"
      },
      "execution_count": null,
      "outputs": []
    }
  ]
}