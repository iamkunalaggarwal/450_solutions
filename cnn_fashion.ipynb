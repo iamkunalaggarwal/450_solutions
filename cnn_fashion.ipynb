{
  "nbformat": 4,
  "nbformat_minor": 0,
  "metadata": {
    "colab": {
      "name": "cnn_fashion.ipynb",
      "provenance": [],
      "mount_file_id": "1yTtaVI9xssF48o-MHPXsn_rjfVPh6idW",
      "authorship_tag": "ABX9TyMF19n5reZhHyIutcPZbnrO",
      "include_colab_link": true
    },
    "kernelspec": {
      "name": "python3",
      "display_name": "Python 3"
    },
    "language_info": {
      "name": "python"
    },
    "accelerator": "GPU"
  },
  "cells": [
    {
      "cell_type": "markdown",
      "metadata": {
        "id": "view-in-github",
        "colab_type": "text"
      },
      "source": [
        "<a href=\"https://colab.research.google.com/github/iamkunalaggarwal/450_solutions/blob/main/cnn_fashion.ipynb\" target=\"_parent\"><img src=\"https://colab.research.google.com/assets/colab-badge.svg\" alt=\"Open In Colab\"/></a>"
      ]
    },
    {
      "cell_type": "code",
      "execution_count": 2,
      "metadata": {
        "id": "VLrQ6-ZTZExK"
      },
      "outputs": [],
      "source": [
        "import numpy as np\n",
        "import matplotlib.pyplot as plt\n",
        "import pandas as pd\n",
        "import seaborn as sns\n",
        "import keras\n",
        "import tensorflow as tf"
      ]
    },
    {
      "cell_type": "code",
      "source": [
        "train = pd.read_csv('drive/MyDrive/fashion dataset/fashion-mnist_train.csv')\n",
        "test = pd.read_csv('drive/MyDrive/fashion dataset/fashion-mnist_test.csv')\n",
        "df = train.copy()\n",
        "test_df = test.copy()\n",
        "print(\"Data imported\")"
      ],
      "metadata": {
        "colab": {
          "base_uri": "https://localhost:8080/"
        },
        "id": "_5yOCTweaFTI",
        "outputId": "655d5286-f8e3-4fd6-abc8-15ef4526c873"
      },
      "execution_count": 3,
      "outputs": [
        {
          "output_type": "stream",
          "name": "stdout",
          "text": [
            "Data imported\n"
          ]
        }
      ]
    },
    {
      "cell_type": "code",
      "source": [
        "#initial values of data set\n",
        "print(\"Dataset Head\")\n",
        "print(train.head())\n",
        "print(\"=\" * 30)"
      ],
      "metadata": {
        "colab": {
          "base_uri": "https://localhost:8080/"
        },
        "id": "r-3DSDdRaXtE",
        "outputId": "8c45dc1f-2e46-4e2e-fd47-f67226260904"
      },
      "execution_count": 4,
      "outputs": [
        {
          "output_type": "stream",
          "name": "stdout",
          "text": [
            "Dataset Head\n",
            "   label  pixel1  pixel2  pixel3  ...  pixel781  pixel782  pixel783  pixel784\n",
            "0      2       0       0       0  ...         0         0         0         0\n",
            "1      9       0       0       0  ...         0         0         0         0\n",
            "2      6       0       0       0  ...         0         0         0         0\n",
            "3      0       0       0       0  ...         0         0         0         0\n",
            "4      3       0       0       0  ...         0         0         0         0\n",
            "\n",
            "[5 rows x 785 columns]\n",
            "==============================\n"
          ]
        }
      ]
    },
    {
      "cell_type": "code",
      "source": [
        "print(train.info())\n",
        "print(\"=\" * 30)"
      ],
      "metadata": {
        "colab": {
          "base_uri": "https://localhost:8080/"
        },
        "id": "JXxptvHpajqD",
        "outputId": "ecff78fc-93d7-4752-e05c-fb5f51d72ba8"
      },
      "execution_count": 5,
      "outputs": [
        {
          "output_type": "stream",
          "name": "stdout",
          "text": [
            "<class 'pandas.core.frame.DataFrame'>\n",
            "RangeIndex: 60000 entries, 0 to 59999\n",
            "Columns: 785 entries, label to pixel784\n",
            "dtypes: int64(785)\n",
            "memory usage: 359.3 MB\n",
            "None\n",
            "==============================\n"
          ]
        }
      ]
    },
    {
      "cell_type": "code",
      "source": [
        "print('Train: ', df.shape)\n",
        "print('Test: ', test_df.shape)"
      ],
      "metadata": {
        "colab": {
          "base_uri": "https://localhost:8080/"
        },
        "id": "KyjhUpu6amYZ",
        "outputId": "44437609-209c-46ce-c0ed-f3364565a38b"
      },
      "execution_count": 6,
      "outputs": [
        {
          "output_type": "stream",
          "name": "stdout",
          "text": [
            "Train:  (60000, 785)\n",
            "Test:  (10000, 785)\n"
          ]
        }
      ]
    },
    {
      "cell_type": "code",
      "source": [
        "df.label.unique()"
      ],
      "metadata": {
        "colab": {
          "base_uri": "https://localhost:8080/"
        },
        "id": "aF0P5n8Saoww",
        "outputId": "45e60917-9430-427b-ef8f-46b2fa75b121"
      },
      "execution_count": 7,
      "outputs": [
        {
          "output_type": "execute_result",
          "data": {
            "text/plain": [
              "array([2, 9, 6, 0, 3, 4, 5, 8, 7, 1])"
            ]
          },
          "metadata": {},
          "execution_count": 7
        }
      ]
    },
    {
      "cell_type": "code",
      "source": [
        " #Checking for Null Values in train \n",
        "df.isnull().any().sum()"
      ],
      "metadata": {
        "colab": {
          "base_uri": "https://localhost:8080/"
        },
        "id": "msyWRL7paruZ",
        "outputId": "3d455d84-0d83-48a8-87ac-6c9196ebb52e"
      },
      "execution_count": 8,
      "outputs": [
        {
          "output_type": "execute_result",
          "data": {
            "text/plain": [
              "0"
            ]
          },
          "metadata": {},
          "execution_count": 8
        }
      ]
    },
    {
      "cell_type": "code",
      "source": [
        " #Checking for Null Values in test\n",
        "test_df.isnull().any().sum()"
      ],
      "metadata": {
        "colab": {
          "base_uri": "https://localhost:8080/"
        },
        "id": "1PoWSNn5a3K0",
        "outputId": "e692acea-d2f9-4d8b-fd68-e65a504ae004"
      },
      "execution_count": 9,
      "outputs": [
        {
          "output_type": "execute_result",
          "data": {
            "text/plain": [
              "0"
            ]
          },
          "metadata": {},
          "execution_count": 9
        }
      ]
    },
    {
      "cell_type": "code",
      "source": [
        "# Mapping Classes lebels\n",
        "clothes = {0 : 'T-shirt/top',\n",
        "            1 : 'Trouser',\n",
        "            2 : 'Pullover',\n",
        "            3 : 'Dress',\n",
        "            4 : 'Coat',\n",
        "            5 : 'Sandal',\n",
        "            6 : 'Shirt',\n",
        "            7 : 'Sneaker',\n",
        "            8 : 'Bag',\n",
        "            9 : 'Ankle boot'}"
      ],
      "metadata": {
        "id": "ksmXkyhza8IP"
      },
      "execution_count": 10,
      "outputs": []
    },
    {
      "cell_type": "code",
      "source": [
        "#Plotting Random Images\n",
        "fig, axes = plt.subplots(4, 4, figsize = (15,15))\n",
        "for row in axes:\n",
        "    for axe in row:\n",
        "        index = np.random.randint(60000)\n",
        "        img = df.drop('label', axis=1).values[index].reshape(28,28)\n",
        "        cloths = df['label'][index]\n",
        "        axe.imshow(img, cmap='gray')\n",
        "        axe.set_title(clothes[cloths])\n",
        "        axe.set_axis_off()"
      ],
      "metadata": {
        "colab": {
          "base_uri": "https://localhost:8080/",
          "height": 862
        },
        "id": "Aukowg38a-fO",
        "outputId": "b3c0ab4f-ca81-4c49-bf96-1366a7820d4c"
      },
      "execution_count": 11,
      "outputs": [
        {
          "output_type": "display_data",
          "data": {
            "image/png": "[encoded data removed]",
            "text/plain": [
              "<Figure size 1080x1080 with 16 Axes>"
            ]
          },
          "metadata": {
            "needs_background": "light"
          }
        }
      ]
    },
    {
      "cell_type": "code",
      "source": [
        "df['label'].value_counts()"
      ],
      "metadata": {
        "colab": {
          "base_uri": "https://localhost:8080/"
        },
        "id": "exj-v-TRbAXh",
        "outputId": "9e5b3a5b-2707-44e9-f522-1a4913657446"
      },
      "execution_count": 12,
      "outputs": [
        {
          "output_type": "execute_result",
          "data": {
            "text/plain": [
              "2    6000\n",
              "9    6000\n",
              "6    6000\n",
              "0    6000\n",
              "3    6000\n",
              "4    6000\n",
              "5    6000\n",
              "8    6000\n",
              "7    6000\n",
              "1    6000\n",
              "Name: label, dtype: int64"
            ]
          },
          "metadata": {},
          "execution_count": 12
        }
      ]
    },
    {
      "cell_type": "code",
      "source": [
        "sns.factorplot(x='label', data=df, kind='count', size=3, aspect= 1.5)"
      ],
      "metadata": {
        "colab": {
          "base_uri": "https://localhost:8080/",
          "height": 332
        },
        "id": "QLfiNPbZbSU8",
        "outputId": "9cb5325e-a22c-4ea5-8fcd-3ba4adae8491"
      },
      "execution_count": 13,
      "outputs": [
        {
          "output_type": "stream",
          "name": "stderr",
          "text": [
            "/usr/local/lib/python3.7/dist-packages/seaborn/categorical.py:3717: UserWarning: The `factorplot` function has been renamed to `catplot`. The original name will be removed in a future release. Please update your code. Note that the default `kind` in `factorplot` (`'point'`) has changed `'strip'` in `catplot`.\n",
            "  warnings.warn(msg)\n",
            "/usr/local/lib/python3.7/dist-packages/seaborn/categorical.py:3723: UserWarning: The `size` parameter has been renamed to `height`; please update your code.\n",
            "  warnings.warn(msg, UserWarning)\n"
          ]
        },
        {
          "output_type": "execute_result",
          "data": {
            "text/plain": [
              "<seaborn.axisgrid.FacetGrid at 0x7fc055665190>"
            ]
          },
          "metadata": {},
          "execution_count": 13
        },
        {
          "output_type": "display_data",
          "data": {
            "image/png": "[encoded data removed]",
            "text/plain": [
              "<Figure size 324x216 with 1 Axes>"
            ]
          },
          "metadata": {
            "needs_background": "light"
          }
        }
      ]
    },
    {
      "cell_type": "code",
      "source": [
        "# Setting Random Seeds for Reproducibilty.\n",
        "seed = 66\n",
        "np.random.seed(seed)"
      ],
      "metadata": {
        "id": "IZc0mhgZbT8p"
      },
      "execution_count": 14,
      "outputs": []
    },
    {
      "cell_type": "code",
      "source": [
        "from sklearn.model_selection import train_test_split\n",
        "X = train.iloc[:,1:]\n",
        "Y = train.iloc[:,0]\n",
        "x_train, x_validate, y_train, y_validate = train_test_split(X, Y, test_size = 0.2, random_state = 12345)"
      ],
      "metadata": {
        "id": "aLIA3VVibYIR"
      },
      "execution_count": 15,
      "outputs": []
    },
    {
      "cell_type": "code",
      "source": [
        "x_train.shape"
      ],
      "metadata": {
        "colab": {
          "base_uri": "https://localhost:8080/"
        },
        "id": "z2LIGZq7baPm",
        "outputId": "d14de0ef-044c-42fa-e068-8a873883fce4"
      },
      "execution_count": 16,
      "outputs": [
        {
          "output_type": "execute_result",
          "data": {
            "text/plain": [
              "(48000, 784)"
            ]
          },
          "metadata": {},
          "execution_count": 16
        }
      ]
    },
    {
      "cell_type": "code",
      "source": [
        "x_validate.shape"
      ],
      "metadata": {
        "colab": {
          "base_uri": "https://localhost:8080/"
        },
        "id": "ImO7575RcI6H",
        "outputId": "633fbce8-8a06-4bfd-f441-3061558ddbda"
      },
      "execution_count": 17,
      "outputs": [
        {
          "output_type": "execute_result",
          "data": {
            "text/plain": [
              "(12000, 784)"
            ]
          },
          "metadata": {},
          "execution_count": 17
        }
      ]
    },
    {
      "cell_type": "code",
      "source": [
        "# * unpack the tuple\n",
        "x_train = x_train.values.reshape(x_train.shape[0], *(28, 28, 1))\n",
        "x_validate = x_validate.values.reshape(x_validate.shape[0], *(28, 28, 1))"
      ],
      "metadata": {
        "id": "KRi0sXlecMIz"
      },
      "execution_count": 18,
      "outputs": []
    },
    {
      "cell_type": "code",
      "source": [
        "print(x_train.shape)\n",
        "print(x_validate.shape)"
      ],
      "metadata": {
        "colab": {
          "base_uri": "https://localhost:8080/"
        },
        "id": "DYp1Lta2deDq",
        "outputId": "40f1393e-95c1-477e-c1e8-ed86b94d9928"
      },
      "execution_count": 19,
      "outputs": [
        {
          "output_type": "stream",
          "name": "stdout",
          "text": [
            "(48000, 28, 28, 1)\n",
            "(12000, 28, 28, 1)\n"
          ]
        }
      ]
    },
    {
      "cell_type": "code",
      "source": [
        "from keras.models import Sequential\n",
        "from keras.layers import Conv2D, MaxPooling2D, Dense, Flatten, Dropout\n",
        "from tensorflow.keras.optimizers import Adam\n",
        "from keras.callbacks import TensorBoard"
      ],
      "metadata": {
        "id": "7h4_n0HCd527"
      },
      "execution_count": 20,
      "outputs": []
    },
    {
      "cell_type": "code",
      "source": [
        "model = tf.keras.Sequential()\n",
        "# Must define the input shape in the first layer of the neural network\n",
        "model.add(tf.keras.layers.Conv2D(filters=64, kernel_size=2, padding='same', activation='relu', input_shape=(28,28,1))) \n",
        "model.add(tf.keras.layers.MaxPooling2D(pool_size=2))\n",
        "model.add(tf.keras.layers.Dropout(0.3))\n",
        "model.add(tf.keras.layers.Conv2D(filters=32, kernel_size=2, padding='same', activation='relu'))\n",
        "model.add(tf.keras.layers.MaxPooling2D(pool_size=2))\n",
        "model.add(tf.keras.layers.Dropout(0.3))\n",
        "model.add(tf.keras.layers.Flatten())\n",
        "model.add(tf.keras.layers.Dense(256, activation='relu'))\n",
        "model.add(tf.keras.layers.Dropout(0.5))\n",
        "model.add(tf.keras.layers.Dense(10, activation='softmax'))\n",
        "# Take a look at the model summary\n",
        "model.summary()"
      ],
      "metadata": {
        "colab": {
          "base_uri": "https://localhost:8080/"
        },
        "id": "q_Z2w8Btd_uK",
        "outputId": "bd712ba3-1709-4b4d-8781-39d2db8a1c24"
      },
      "execution_count": 21,
      "outputs": [
        {
          "output_type": "stream",
          "name": "stdout",
          "text": [
            "Model: \"sequential\"\n",
            "_________________________________________________________________\n",
            " Layer (type)                Output Shape              Param #   \n",
            "=================================================================\n",
            " conv2d (Conv2D)             (None, 28, 28, 64)        320       \n",
            "                                                                 \n",
            " max_pooling2d (MaxPooling2D  (None, 14, 14, 64)       0         \n",
            " )                                                               \n",
            "                                                                 \n",
            " dropout (Dropout)           (None, 14, 14, 64)        0         \n",
            "                                                                 \n",
            " conv2d_1 (Conv2D)           (None, 14, 14, 32)        8224      \n",
            "                                                                 \n",
            " max_pooling2d_1 (MaxPooling  (None, 7, 7, 32)         0         \n",
            " 2D)                                                             \n",
            "                                                                 \n",
            " dropout_1 (Dropout)         (None, 7, 7, 32)          0         \n",
            "                                                                 \n",
            " flatten (Flatten)           (None, 1568)              0         \n",
            "                                                                 \n",
            " dense (Dense)               (None, 256)               401664    \n",
            "                                                                 \n",
            " dropout_2 (Dropout)         (None, 256)               0         \n",
            "                                                                 \n",
            " dense_1 (Dense)             (None, 10)                2570      \n",
            "                                                                 \n",
            "=================================================================\n",
            "Total params: 412,778\n",
            "Trainable params: 412,778\n",
            "Non-trainable params: 0\n",
            "_________________________________________________________________\n"
          ]
        }
      ]
    },
    {
      "cell_type": "code",
      "source": [
        "model.compile(loss ='sparse_categorical_crossentropy', optimizer='adam' ,metrics =['accuracy'])"
      ],
      "metadata": {
        "id": "XudL6Zh_eIKw"
      },
      "execution_count": 22,
      "outputs": []
    },
    {
      "cell_type": "code",
      "source": [
        "epochs = 150\n",
        "\n",
        "history = model.fit(x_train, y_train, batch_size = 512, epochs = epochs,\n",
        "                        verbose = 1, validation_data = (x_validate, y_validate))"
      ],
      "metadata": {
        "colab": {
          "base_uri": "https://localhost:8080/"
        },
        "id": "A9FaFx6ReLFc",
        "outputId": "26364fc8-dd38-40c7-ff81-e8c5dad725f5"
      },
      "execution_count": 23,
      "outputs": [
        {
          "output_type": "stream",
          "name": "stdout",
          "text": [
            "Epoch 1/150\n",
            "94/94 [==============================] - 16s 56ms/step - loss: 4.6680 - accuracy: 0.4565 - val_loss: 0.8336 - val_accuracy: 0.6809\n",
            "Epoch 2/150\n",
            "94/94 [==============================] - 5s 51ms/step - loss: 0.9549 - accuracy: 0.6473 - val_loss: 0.6066 - val_accuracy: 0.7548\n",
            "Epoch 3/150\n",
            "94/94 [==============================] - 5s 49ms/step - loss: 0.7916 - accuracy: 0.6999 - val_loss: 0.5531 - val_accuracy: 0.7811\n",
            "Epoch 4/150\n",
            "94/94 [==============================] - 5s 49ms/step - loss: 0.7086 - accuracy: 0.7271 - val_loss: 0.5112 - val_accuracy: 0.7928\n",
            "Epoch 5/150\n",
            "94/94 [==============================] - 5s 51ms/step - loss: 0.6549 - accuracy: 0.7464 - val_loss: 0.4778 - val_accuracy: 0.8055\n",
            "Epoch 6/150\n",
            "94/94 [==============================] - 5s 49ms/step - loss: 0.6190 - accuracy: 0.7606 - val_loss: 0.4557 - val_accuracy: 0.8185\n",
            "Epoch 7/150\n",
            "94/94 [==============================] - 5s 49ms/step - loss: 0.5858 - accuracy: 0.7762 - val_loss: 0.4377 - val_accuracy: 0.8413\n",
            "Epoch 8/150\n",
            "94/94 [==============================] - 5s 49ms/step - loss: 0.5579 - accuracy: 0.7875 - val_loss: 0.4275 - val_accuracy: 0.8407\n",
            "Epoch 9/150\n",
            "94/94 [==============================] - 5s 54ms/step - loss: 0.5352 - accuracy: 0.7966 - val_loss: 0.4070 - val_accuracy: 0.8499\n",
            "Epoch 10/150\n",
            "94/94 [==============================] - 5s 51ms/step - loss: 0.5174 - accuracy: 0.8032 - val_loss: 0.3838 - val_accuracy: 0.8587\n",
            "Epoch 11/150\n",
            "94/94 [==============================] - 5s 49ms/step - loss: 0.4998 - accuracy: 0.8131 - val_loss: 0.3665 - val_accuracy: 0.8659\n",
            "Epoch 12/150\n",
            "94/94 [==============================] - 5s 49ms/step - loss: 0.4898 - accuracy: 0.8166 - val_loss: 0.3621 - val_accuracy: 0.8700\n",
            "Epoch 13/150\n",
            "94/94 [==============================] - 5s 49ms/step - loss: 0.4691 - accuracy: 0.8246 - val_loss: 0.3477 - val_accuracy: 0.8755\n",
            "Epoch 14/150\n",
            "94/94 [==============================] - 5s 48ms/step - loss: 0.4552 - accuracy: 0.8303 - val_loss: 0.3373 - val_accuracy: 0.8781\n",
            "Epoch 15/150\n",
            "94/94 [==============================] - 5s 52ms/step - loss: 0.4445 - accuracy: 0.8339 - val_loss: 0.3310 - val_accuracy: 0.8826\n",
            "Epoch 16/150\n",
            "94/94 [==============================] - 5s 48ms/step - loss: 0.4361 - accuracy: 0.8399 - val_loss: 0.3194 - val_accuracy: 0.8847\n",
            "Epoch 17/150\n",
            "94/94 [==============================] - 5s 49ms/step - loss: 0.4217 - accuracy: 0.8428 - val_loss: 0.3182 - val_accuracy: 0.8854\n",
            "Epoch 18/150\n",
            "94/94 [==============================] - 5s 49ms/step - loss: 0.4150 - accuracy: 0.8468 - val_loss: 0.3070 - val_accuracy: 0.8893\n",
            "Epoch 19/150\n",
            "94/94 [==============================] - 5s 49ms/step - loss: 0.4036 - accuracy: 0.8522 - val_loss: 0.2998 - val_accuracy: 0.8936\n",
            "Epoch 20/150\n",
            "94/94 [==============================] - 5s 49ms/step - loss: 0.3939 - accuracy: 0.8575 - val_loss: 0.2983 - val_accuracy: 0.8935\n",
            "Epoch 21/150\n",
            "94/94 [==============================] - 5s 51ms/step - loss: 0.3860 - accuracy: 0.8584 - val_loss: 0.2929 - val_accuracy: 0.8957\n",
            "Epoch 22/150\n",
            "94/94 [==============================] - 5s 49ms/step - loss: 0.3807 - accuracy: 0.8615 - val_loss: 0.2896 - val_accuracy: 0.8939\n",
            "Epoch 23/150\n",
            "94/94 [==============================] - 5s 50ms/step - loss: 0.3795 - accuracy: 0.8629 - val_loss: 0.2806 - val_accuracy: 0.8964\n",
            "Epoch 24/150\n",
            "94/94 [==============================] - 5s 49ms/step - loss: 0.3712 - accuracy: 0.8642 - val_loss: 0.2826 - val_accuracy: 0.8963\n",
            "Epoch 25/150\n",
            "94/94 [==============================] - 5s 49ms/step - loss: 0.3656 - accuracy: 0.8654 - val_loss: 0.2787 - val_accuracy: 0.8992\n",
            "Epoch 26/150\n",
            "94/94 [==============================] - 5s 49ms/step - loss: 0.3583 - accuracy: 0.8685 - val_loss: 0.2694 - val_accuracy: 0.9045\n",
            "Epoch 27/150\n",
            "94/94 [==============================] - 5s 49ms/step - loss: 0.3523 - accuracy: 0.8703 - val_loss: 0.2706 - val_accuracy: 0.8993\n",
            "Epoch 28/150\n",
            "94/94 [==============================] - 5s 52ms/step - loss: 0.3492 - accuracy: 0.8707 - val_loss: 0.2611 - val_accuracy: 0.9062\n",
            "Epoch 29/150\n",
            "94/94 [==============================] - 5s 49ms/step - loss: 0.3434 - accuracy: 0.8724 - val_loss: 0.2607 - val_accuracy: 0.9068\n",
            "Epoch 30/150\n",
            "94/94 [==============================] - 5s 50ms/step - loss: 0.3381 - accuracy: 0.8758 - val_loss: 0.2632 - val_accuracy: 0.9018\n",
            "Epoch 31/150\n",
            "94/94 [==============================] - 5s 50ms/step - loss: 0.3383 - accuracy: 0.8774 - val_loss: 0.2627 - val_accuracy: 0.9034\n",
            "Epoch 32/150\n",
            "94/94 [==============================] - 5s 51ms/step - loss: 0.3327 - accuracy: 0.8787 - val_loss: 0.2562 - val_accuracy: 0.9066\n",
            "Epoch 33/150\n",
            "94/94 [==============================] - 5s 50ms/step - loss: 0.3242 - accuracy: 0.8804 - val_loss: 0.2503 - val_accuracy: 0.9097\n",
            "Epoch 34/150\n",
            "94/94 [==============================] - 5s 50ms/step - loss: 0.3256 - accuracy: 0.8806 - val_loss: 0.2487 - val_accuracy: 0.9107\n",
            "Epoch 35/150\n",
            "94/94 [==============================] - 5s 49ms/step - loss: 0.3218 - accuracy: 0.8804 - val_loss: 0.2620 - val_accuracy: 0.9028\n",
            "Epoch 36/150\n",
            "94/94 [==============================] - 5s 49ms/step - loss: 0.3164 - accuracy: 0.8847 - val_loss: 0.2444 - val_accuracy: 0.9097\n",
            "Epoch 37/150\n",
            "94/94 [==============================] - 5s 52ms/step - loss: 0.3152 - accuracy: 0.8825 - val_loss: 0.2460 - val_accuracy: 0.9102\n",
            "Epoch 38/150\n",
            "94/94 [==============================] - 5s 52ms/step - loss: 0.3115 - accuracy: 0.8845 - val_loss: 0.2422 - val_accuracy: 0.9097\n",
            "Epoch 39/150\n",
            "94/94 [==============================] - 5s 49ms/step - loss: 0.3055 - accuracy: 0.8866 - val_loss: 0.2396 - val_accuracy: 0.9121\n",
            "Epoch 40/150\n",
            "94/94 [==============================] - 5s 49ms/step - loss: 0.3106 - accuracy: 0.8858 - val_loss: 0.2373 - val_accuracy: 0.9126\n",
            "Epoch 41/150\n",
            "94/94 [==============================] - 5s 52ms/step - loss: 0.3033 - accuracy: 0.8902 - val_loss: 0.2484 - val_accuracy: 0.9093\n",
            "Epoch 42/150\n",
            "94/94 [==============================] - 5s 49ms/step - loss: 0.3062 - accuracy: 0.8869 - val_loss: 0.2415 - val_accuracy: 0.9103\n",
            "Epoch 43/150\n",
            "94/94 [==============================] - 5s 52ms/step - loss: 0.3001 - accuracy: 0.8896 - val_loss: 0.2363 - val_accuracy: 0.9121\n",
            "Epoch 44/150\n",
            "94/94 [==============================] - 5s 49ms/step - loss: 0.2966 - accuracy: 0.8910 - val_loss: 0.2332 - val_accuracy: 0.9137\n",
            "Epoch 45/150\n",
            "94/94 [==============================] - 5s 52ms/step - loss: 0.3004 - accuracy: 0.8890 - val_loss: 0.2408 - val_accuracy: 0.9119\n",
            "Epoch 46/150\n",
            "94/94 [==============================] - 5s 49ms/step - loss: 0.2945 - accuracy: 0.8918 - val_loss: 0.2313 - val_accuracy: 0.9157\n",
            "Epoch 47/150\n",
            "94/94 [==============================] - 5s 49ms/step - loss: 0.2889 - accuracy: 0.8931 - val_loss: 0.2309 - val_accuracy: 0.9163\n",
            "Epoch 48/150\n",
            "94/94 [==============================] - 5s 52ms/step - loss: 0.2871 - accuracy: 0.8956 - val_loss: 0.2298 - val_accuracy: 0.9181\n",
            "Epoch 49/150\n",
            "94/94 [==============================] - 5s 49ms/step - loss: 0.2854 - accuracy: 0.8930 - val_loss: 0.2323 - val_accuracy: 0.9147\n",
            "Epoch 50/150\n",
            "94/94 [==============================] - 5s 49ms/step - loss: 0.2804 - accuracy: 0.8972 - val_loss: 0.2251 - val_accuracy: 0.9178\n",
            "Epoch 51/150\n",
            "94/94 [==============================] - 5s 49ms/step - loss: 0.2879 - accuracy: 0.8937 - val_loss: 0.2353 - val_accuracy: 0.9115\n",
            "Epoch 52/150\n",
            "94/94 [==============================] - 5s 52ms/step - loss: 0.2764 - accuracy: 0.8967 - val_loss: 0.2223 - val_accuracy: 0.9182\n",
            "Epoch 53/150\n",
            "94/94 [==============================] - 5s 49ms/step - loss: 0.2738 - accuracy: 0.8994 - val_loss: 0.2279 - val_accuracy: 0.9148\n",
            "Epoch 54/150\n",
            "94/94 [==============================] - 5s 52ms/step - loss: 0.2769 - accuracy: 0.8965 - val_loss: 0.2256 - val_accuracy: 0.9176\n",
            "Epoch 55/150\n",
            "94/94 [==============================] - 5s 50ms/step - loss: 0.2757 - accuracy: 0.8993 - val_loss: 0.2206 - val_accuracy: 0.9192\n",
            "Epoch 56/150\n",
            "94/94 [==============================] - 5s 50ms/step - loss: 0.2732 - accuracy: 0.8991 - val_loss: 0.2241 - val_accuracy: 0.9165\n",
            "Epoch 57/150\n",
            "94/94 [==============================] - 5s 52ms/step - loss: 0.2693 - accuracy: 0.8996 - val_loss: 0.2204 - val_accuracy: 0.9182\n",
            "Epoch 58/150\n",
            "94/94 [==============================] - 5s 50ms/step - loss: 0.2672 - accuracy: 0.9009 - val_loss: 0.2236 - val_accuracy: 0.9172\n",
            "Epoch 59/150\n",
            "94/94 [==============================] - 5s 49ms/step - loss: 0.2686 - accuracy: 0.9007 - val_loss: 0.2215 - val_accuracy: 0.9195\n",
            "Epoch 60/150\n",
            "94/94 [==============================] - 5s 49ms/step - loss: 0.2628 - accuracy: 0.9042 - val_loss: 0.2164 - val_accuracy: 0.9208\n",
            "Epoch 61/150\n",
            "94/94 [==============================] - 5s 49ms/step - loss: 0.2557 - accuracy: 0.9047 - val_loss: 0.2255 - val_accuracy: 0.9166\n",
            "Epoch 62/150\n",
            "94/94 [==============================] - 5s 49ms/step - loss: 0.2582 - accuracy: 0.9036 - val_loss: 0.2212 - val_accuracy: 0.9189\n",
            "Epoch 63/150\n",
            "94/94 [==============================] - 5s 50ms/step - loss: 0.2570 - accuracy: 0.9047 - val_loss: 0.2183 - val_accuracy: 0.9216\n",
            "Epoch 64/150\n",
            "94/94 [==============================] - 5s 52ms/step - loss: 0.2558 - accuracy: 0.9046 - val_loss: 0.2191 - val_accuracy: 0.9187\n",
            "Epoch 65/150\n",
            "94/94 [==============================] - 5s 49ms/step - loss: 0.2567 - accuracy: 0.9044 - val_loss: 0.2148 - val_accuracy: 0.9211\n",
            "Epoch 66/150\n",
            "94/94 [==============================] - 5s 52ms/step - loss: 0.2518 - accuracy: 0.9065 - val_loss: 0.2200 - val_accuracy: 0.9193\n",
            "Epoch 67/150\n",
            "94/94 [==============================] - 5s 49ms/step - loss: 0.2512 - accuracy: 0.9047 - val_loss: 0.2155 - val_accuracy: 0.9222\n",
            "Epoch 68/150\n",
            "94/94 [==============================] - 5s 49ms/step - loss: 0.2470 - accuracy: 0.9085 - val_loss: 0.2137 - val_accuracy: 0.9208\n",
            "Epoch 69/150\n",
            "94/94 [==============================] - 5s 50ms/step - loss: 0.2551 - accuracy: 0.9050 - val_loss: 0.2125 - val_accuracy: 0.9236\n",
            "Epoch 70/150\n",
            "94/94 [==============================] - 5s 52ms/step - loss: 0.2440 - accuracy: 0.9091 - val_loss: 0.2159 - val_accuracy: 0.9212\n",
            "Epoch 71/150\n",
            "94/94 [==============================] - 5s 49ms/step - loss: 0.2482 - accuracy: 0.9072 - val_loss: 0.2143 - val_accuracy: 0.9240\n",
            "Epoch 72/150\n",
            "94/94 [==============================] - 5s 49ms/step - loss: 0.2436 - accuracy: 0.9095 - val_loss: 0.2148 - val_accuracy: 0.9210\n",
            "Epoch 73/150\n",
            "94/94 [==============================] - 5s 49ms/step - loss: 0.2461 - accuracy: 0.9096 - val_loss: 0.2154 - val_accuracy: 0.9216\n",
            "Epoch 74/150\n",
            "94/94 [==============================] - 5s 50ms/step - loss: 0.2398 - accuracy: 0.9104 - val_loss: 0.2148 - val_accuracy: 0.9214\n",
            "Epoch 75/150\n",
            "94/94 [==============================] - 5s 52ms/step - loss: 0.2403 - accuracy: 0.9105 - val_loss: 0.2214 - val_accuracy: 0.9196\n",
            "Epoch 76/150\n",
            "94/94 [==============================] - 5s 52ms/step - loss: 0.2379 - accuracy: 0.9108 - val_loss: 0.2130 - val_accuracy: 0.9222\n",
            "Epoch 77/150\n",
            "94/94 [==============================] - 5s 49ms/step - loss: 0.2367 - accuracy: 0.9105 - val_loss: 0.2124 - val_accuracy: 0.9234\n",
            "Epoch 78/150\n",
            "94/94 [==============================] - 5s 49ms/step - loss: 0.2366 - accuracy: 0.9125 - val_loss: 0.2138 - val_accuracy: 0.9221\n",
            "Epoch 79/150\n",
            "94/94 [==============================] - 5s 49ms/step - loss: 0.2306 - accuracy: 0.9137 - val_loss: 0.2216 - val_accuracy: 0.9196\n",
            "Epoch 80/150\n",
            "94/94 [==============================] - 5s 52ms/step - loss: 0.2349 - accuracy: 0.9134 - val_loss: 0.2172 - val_accuracy: 0.9225\n",
            "Epoch 81/150\n",
            "94/94 [==============================] - 5s 52ms/step - loss: 0.2342 - accuracy: 0.9111 - val_loss: 0.2111 - val_accuracy: 0.9249\n",
            "Epoch 82/150\n",
            "94/94 [==============================] - 5s 49ms/step - loss: 0.2342 - accuracy: 0.9121 - val_loss: 0.2253 - val_accuracy: 0.9168\n",
            "Epoch 83/150\n",
            "94/94 [==============================] - 5s 49ms/step - loss: 0.2354 - accuracy: 0.9133 - val_loss: 0.2167 - val_accuracy: 0.9201\n",
            "Epoch 84/150\n",
            "94/94 [==============================] - 5s 49ms/step - loss: 0.2321 - accuracy: 0.9130 - val_loss: 0.2155 - val_accuracy: 0.9201\n",
            "Epoch 85/150\n",
            "94/94 [==============================] - 5s 49ms/step - loss: 0.2320 - accuracy: 0.9159 - val_loss: 0.2127 - val_accuracy: 0.9229\n",
            "Epoch 86/150\n",
            "94/94 [==============================] - 5s 49ms/step - loss: 0.2282 - accuracy: 0.9142 - val_loss: 0.2129 - val_accuracy: 0.9221\n",
            "Epoch 87/150\n",
            "94/94 [==============================] - 5s 49ms/step - loss: 0.2226 - accuracy: 0.9174 - val_loss: 0.2090 - val_accuracy: 0.9230\n",
            "Epoch 88/150\n",
            "94/94 [==============================] - 5s 49ms/step - loss: 0.2223 - accuracy: 0.9177 - val_loss: 0.2151 - val_accuracy: 0.9203\n",
            "Epoch 89/150\n",
            "94/94 [==============================] - 5s 49ms/step - loss: 0.2241 - accuracy: 0.9163 - val_loss: 0.2096 - val_accuracy: 0.9235\n",
            "Epoch 90/150\n",
            "94/94 [==============================] - 5s 52ms/step - loss: 0.2203 - accuracy: 0.9175 - val_loss: 0.2133 - val_accuracy: 0.9228\n",
            "Epoch 91/150\n",
            "94/94 [==============================] - 5s 49ms/step - loss: 0.2192 - accuracy: 0.9176 - val_loss: 0.2079 - val_accuracy: 0.9253\n",
            "Epoch 92/150\n",
            "94/94 [==============================] - 5s 52ms/step - loss: 0.2207 - accuracy: 0.9169 - val_loss: 0.2103 - val_accuracy: 0.9237\n",
            "Epoch 93/150\n",
            "94/94 [==============================] - 5s 49ms/step - loss: 0.2201 - accuracy: 0.9183 - val_loss: 0.2073 - val_accuracy: 0.9246\n",
            "Epoch 94/150\n",
            "94/94 [==============================] - 5s 49ms/step - loss: 0.2204 - accuracy: 0.9189 - val_loss: 0.2050 - val_accuracy: 0.9261\n",
            "Epoch 95/150\n",
            "94/94 [==============================] - 5s 49ms/step - loss: 0.2165 - accuracy: 0.9202 - val_loss: 0.2081 - val_accuracy: 0.9222\n",
            "Epoch 96/150\n",
            "94/94 [==============================] - 5s 49ms/step - loss: 0.2182 - accuracy: 0.9187 - val_loss: 0.2107 - val_accuracy: 0.9236\n",
            "Epoch 97/150\n",
            "94/94 [==============================] - 5s 49ms/step - loss: 0.2114 - accuracy: 0.9201 - val_loss: 0.2022 - val_accuracy: 0.9271\n",
            "Epoch 98/150\n",
            "94/94 [==============================] - 5s 52ms/step - loss: 0.2152 - accuracy: 0.9196 - val_loss: 0.2063 - val_accuracy: 0.9272\n",
            "Epoch 99/150\n",
            "94/94 [==============================] - 5s 49ms/step - loss: 0.2142 - accuracy: 0.9196 - val_loss: 0.2094 - val_accuracy: 0.9250\n",
            "Epoch 100/150\n",
            "94/94 [==============================] - 5s 49ms/step - loss: 0.2171 - accuracy: 0.9200 - val_loss: 0.2086 - val_accuracy: 0.9247\n",
            "Epoch 101/150\n",
            "94/94 [==============================] - 5s 52ms/step - loss: 0.2108 - accuracy: 0.9204 - val_loss: 0.2058 - val_accuracy: 0.9287\n",
            "Epoch 102/150\n",
            "94/94 [==============================] - 5s 50ms/step - loss: 0.2058 - accuracy: 0.9233 - val_loss: 0.2145 - val_accuracy: 0.9227\n",
            "Epoch 103/150\n",
            "94/94 [==============================] - 5s 52ms/step - loss: 0.2155 - accuracy: 0.9192 - val_loss: 0.2021 - val_accuracy: 0.9255\n",
            "Epoch 104/150\n",
            "94/94 [==============================] - 5s 52ms/step - loss: 0.2094 - accuracy: 0.9219 - val_loss: 0.2081 - val_accuracy: 0.9253\n",
            "Epoch 105/150\n",
            "94/94 [==============================] - 5s 49ms/step - loss: 0.2062 - accuracy: 0.9236 - val_loss: 0.2083 - val_accuracy: 0.9253\n",
            "Epoch 106/150\n",
            "94/94 [==============================] - 5s 52ms/step - loss: 0.2040 - accuracy: 0.9231 - val_loss: 0.2045 - val_accuracy: 0.9269\n",
            "Epoch 107/150\n",
            "94/94 [==============================] - 5s 49ms/step - loss: 0.2044 - accuracy: 0.9235 - val_loss: 0.2032 - val_accuracy: 0.9262\n",
            "Epoch 108/150\n",
            "94/94 [==============================] - 5s 52ms/step - loss: 0.2035 - accuracy: 0.9236 - val_loss: 0.2031 - val_accuracy: 0.9263\n",
            "Epoch 109/150\n",
            "94/94 [==============================] - 5s 52ms/step - loss: 0.1991 - accuracy: 0.9245 - val_loss: 0.2069 - val_accuracy: 0.9270\n",
            "Epoch 110/150\n",
            "94/94 [==============================] - 5s 49ms/step - loss: 0.2104 - accuracy: 0.9221 - val_loss: 0.2103 - val_accuracy: 0.9250\n",
            "Epoch 111/150\n",
            "94/94 [==============================] - 5s 52ms/step - loss: 0.2038 - accuracy: 0.9240 - val_loss: 0.2065 - val_accuracy: 0.9263\n",
            "Epoch 112/150\n",
            "94/94 [==============================] - 5s 52ms/step - loss: 0.2002 - accuracy: 0.9260 - val_loss: 0.2092 - val_accuracy: 0.9247\n",
            "Epoch 113/150\n",
            "94/94 [==============================] - 5s 50ms/step - loss: 0.2020 - accuracy: 0.9237 - val_loss: 0.2048 - val_accuracy: 0.9263\n",
            "Epoch 114/150\n",
            "94/94 [==============================] - 5s 49ms/step - loss: 0.2000 - accuracy: 0.9255 - val_loss: 0.2092 - val_accuracy: 0.9248\n",
            "Epoch 115/150\n",
            "94/94 [==============================] - 5s 52ms/step - loss: 0.1993 - accuracy: 0.9255 - val_loss: 0.2128 - val_accuracy: 0.9238\n",
            "Epoch 116/150\n",
            "94/94 [==============================] - 5s 49ms/step - loss: 0.1950 - accuracy: 0.9259 - val_loss: 0.2028 - val_accuracy: 0.9271\n",
            "Epoch 117/150\n",
            "94/94 [==============================] - 5s 49ms/step - loss: 0.1949 - accuracy: 0.9255 - val_loss: 0.2052 - val_accuracy: 0.9273\n",
            "Epoch 118/150\n",
            "94/94 [==============================] - 5s 49ms/step - loss: 0.1957 - accuracy: 0.9268 - val_loss: 0.2028 - val_accuracy: 0.9263\n",
            "Epoch 119/150\n",
            "94/94 [==============================] - 5s 49ms/step - loss: 0.1966 - accuracy: 0.9263 - val_loss: 0.2025 - val_accuracy: 0.9293\n",
            "Epoch 120/150\n",
            "94/94 [==============================] - 5s 52ms/step - loss: 0.1993 - accuracy: 0.9265 - val_loss: 0.2030 - val_accuracy: 0.9267\n",
            "Epoch 121/150\n",
            "94/94 [==============================] - 5s 49ms/step - loss: 0.1951 - accuracy: 0.9276 - val_loss: 0.2025 - val_accuracy: 0.9271\n",
            "Epoch 122/150\n",
            "94/94 [==============================] - 5s 52ms/step - loss: 0.1943 - accuracy: 0.9275 - val_loss: 0.2108 - val_accuracy: 0.9247\n",
            "Epoch 123/150\n",
            "94/94 [==============================] - 5s 49ms/step - loss: 0.1941 - accuracy: 0.9265 - val_loss: 0.2038 - val_accuracy: 0.9299\n",
            "Epoch 124/150\n",
            "94/94 [==============================] - 5s 52ms/step - loss: 0.1966 - accuracy: 0.9268 - val_loss: 0.1988 - val_accuracy: 0.9295\n",
            "Epoch 125/150\n",
            "94/94 [==============================] - 5s 50ms/step - loss: 0.1911 - accuracy: 0.9291 - val_loss: 0.2016 - val_accuracy: 0.9287\n",
            "Epoch 126/150\n",
            "94/94 [==============================] - 5s 49ms/step - loss: 0.1894 - accuracy: 0.9294 - val_loss: 0.2054 - val_accuracy: 0.9289\n",
            "Epoch 127/150\n",
            "94/94 [==============================] - 5s 53ms/step - loss: 0.1922 - accuracy: 0.9281 - val_loss: 0.2055 - val_accuracy: 0.9283\n",
            "Epoch 128/150\n",
            "94/94 [==============================] - 5s 52ms/step - loss: 0.1891 - accuracy: 0.9294 - val_loss: 0.2101 - val_accuracy: 0.9266\n",
            "Epoch 129/150\n",
            "94/94 [==============================] - 5s 49ms/step - loss: 0.1899 - accuracy: 0.9284 - val_loss: 0.2145 - val_accuracy: 0.9221\n",
            "Epoch 130/150\n",
            "94/94 [==============================] - 5s 49ms/step - loss: 0.1878 - accuracy: 0.9304 - val_loss: 0.2052 - val_accuracy: 0.9295\n",
            "Epoch 131/150\n",
            "94/94 [==============================] - 5s 49ms/step - loss: 0.1848 - accuracy: 0.9312 - val_loss: 0.2059 - val_accuracy: 0.9285\n",
            "Epoch 132/150\n",
            "94/94 [==============================] - 5s 50ms/step - loss: 0.1861 - accuracy: 0.9295 - val_loss: 0.2050 - val_accuracy: 0.9268\n",
            "Epoch 133/150\n",
            "94/94 [==============================] - 5s 49ms/step - loss: 0.1904 - accuracy: 0.9280 - val_loss: 0.2106 - val_accuracy: 0.9259\n",
            "Epoch 134/150\n",
            "94/94 [==============================] - 5s 49ms/step - loss: 0.1851 - accuracy: 0.9312 - val_loss: 0.2028 - val_accuracy: 0.9298\n",
            "Epoch 135/150\n",
            "94/94 [==============================] - 5s 49ms/step - loss: 0.1869 - accuracy: 0.9300 - val_loss: 0.2024 - val_accuracy: 0.9278\n",
            "Epoch 136/150\n",
            "94/94 [==============================] - 5s 50ms/step - loss: 0.1872 - accuracy: 0.9309 - val_loss: 0.2033 - val_accuracy: 0.9283\n",
            "Epoch 137/150\n",
            "94/94 [==============================] - 5s 49ms/step - loss: 0.1843 - accuracy: 0.9309 - val_loss: 0.2055 - val_accuracy: 0.9290\n",
            "Epoch 138/150\n",
            "94/94 [==============================] - 5s 52ms/step - loss: 0.1798 - accuracy: 0.9336 - val_loss: 0.2046 - val_accuracy: 0.9294\n",
            "Epoch 139/150\n",
            "94/94 [==============================] - 5s 49ms/step - loss: 0.1881 - accuracy: 0.9295 - val_loss: 0.2128 - val_accuracy: 0.9273\n",
            "Epoch 140/150\n",
            "94/94 [==============================] - 5s 49ms/step - loss: 0.1798 - accuracy: 0.9323 - val_loss: 0.2063 - val_accuracy: 0.9262\n",
            "Epoch 141/150\n",
            "94/94 [==============================] - 5s 52ms/step - loss: 0.1801 - accuracy: 0.9321 - val_loss: 0.2107 - val_accuracy: 0.9263\n",
            "Epoch 142/150\n",
            "94/94 [==============================] - 5s 49ms/step - loss: 0.1851 - accuracy: 0.9319 - val_loss: 0.2040 - val_accuracy: 0.9298\n",
            "Epoch 143/150\n",
            "94/94 [==============================] - 5s 52ms/step - loss: 0.1830 - accuracy: 0.9312 - val_loss: 0.2046 - val_accuracy: 0.9263\n",
            "Epoch 144/150\n",
            "94/94 [==============================] - 5s 52ms/step - loss: 0.1819 - accuracy: 0.9327 - val_loss: 0.2017 - val_accuracy: 0.9297\n",
            "Epoch 145/150\n",
            "94/94 [==============================] - 5s 50ms/step - loss: 0.1777 - accuracy: 0.9338 - val_loss: 0.2054 - val_accuracy: 0.9286\n",
            "Epoch 146/150\n",
            "94/94 [==============================] - 5s 53ms/step - loss: 0.1813 - accuracy: 0.9308 - val_loss: 0.2046 - val_accuracy: 0.9290\n",
            "Epoch 147/150\n",
            "94/94 [==============================] - 5s 49ms/step - loss: 0.1799 - accuracy: 0.9329 - val_loss: 0.2117 - val_accuracy: 0.9260\n",
            "Epoch 148/150\n",
            "94/94 [==============================] - 5s 50ms/step - loss: 0.1722 - accuracy: 0.9336 - val_loss: 0.2056 - val_accuracy: 0.9299\n",
            "Epoch 149/150\n",
            "94/94 [==============================] - 5s 50ms/step - loss: 0.1726 - accuracy: 0.9347 - val_loss: 0.2066 - val_accuracy: 0.9299\n",
            "Epoch 150/150\n",
            "94/94 [==============================] - 5s 50ms/step - loss: 0.1799 - accuracy: 0.9340 - val_loss: 0.2010 - val_accuracy: 0.9291\n"
          ]
        }
      ]
    },
    {
      "cell_type": "code",
      "source": [
        "plt.figure(figsize=(12, 8))\n",
        "\n",
        "plt.subplot(2, 2, 1)\n",
        "plt.plot(history.history['loss'], label='Loss')\n",
        "plt.plot(history.history['val_loss'], label='val_Loss')\n",
        "plt.legend()\n",
        "plt.title('Loss evolution')"
      ],
      "metadata": {
        "colab": {
          "base_uri": "https://localhost:8080/",
          "height": 279
        },
        "id": "4OYlSPeMeM2M",
        "outputId": "2b3b69b7-bed0-4d77-8ce2-39560f8b6824"
      },
      "execution_count": 24,
      "outputs": [
        {
          "output_type": "execute_result",
          "data": {
            "text/plain": [
              "Text(0.5, 1.0, 'Loss evolution')"
            ]
          },
          "metadata": {},
          "execution_count": 24
        },
        {
          "output_type": "display_data",
          "data": {
            "image/png": "[encoded data removed]",
            "text/plain": [
              "<Figure size 864x576 with 1 Axes>"
            ]
          },
          "metadata": {
            "needs_background": "light"
          }
        }
      ]
    },
    {
      "cell_type": "code",
      "source": [
        "x_test = test.iloc[:,1:]\n",
        "y_test = test_df.iloc[:,0]\n",
        "x_test = x_test.values.reshape(x_test.shape[0], *(28, 28, 1))"
      ],
      "metadata": {
        "id": "TcaPDy9HkoYA"
      },
      "execution_count": 30,
      "outputs": []
    },
    {
      "cell_type": "code",
      "source": [
        "evaluation = model.evaluate(x_test, y_test)\n",
        "print(f'Test Accuracy : {evaluation[1]:.3f}')"
      ],
      "metadata": {
        "colab": {
          "base_uri": "https://localhost:8080/"
        },
        "id": "-lu_6vl5kqml",
        "outputId": "eb075a37-da18-405d-8afe-189471287975"
      },
      "execution_count": 31,
      "outputs": [
        {
          "output_type": "stream",
          "name": "stdout",
          "text": [
            "313/313 [==============================] - 1s 4ms/step - loss: 0.1969 - accuracy: 0.9324\n",
            "Test Accuracy : 0.932\n"
          ]
        }
      ]
    }
  ]
}